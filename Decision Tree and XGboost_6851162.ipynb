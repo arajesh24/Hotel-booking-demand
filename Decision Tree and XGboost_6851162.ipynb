{
 "cells": [
  {
   "cell_type": "markdown",
   "id": "ef5347f8",
   "metadata": {},
   "source": [
    "## Decision Tree on  imbalanced dataset"
   ]
  },
  {
   "cell_type": "code",
   "execution_count": 1,
   "id": "15cf6093-d176-410f-a744-0db9fd76edb9",
   "metadata": {},
   "outputs": [],
   "source": [
    "# Importing the libraries\n",
    "import pandas as pd\n",
    "import numpy as np\n",
    "from sklearn.model_selection import train_test_split, GridSearchCV\n",
    "from sklearn.tree import DecisionTreeClassifier\n",
    "from sklearn.metrics import matthews_corrcoef, accuracy_score, precision_score, roc_curve, auc, classification_report\n",
    "import matplotlib.pyplot as plt"
   ]
  },
  {
   "cell_type": "code",
   "execution_count": 2,
   "id": "96500515-276e-4966-9f6e-606716f8020b",
   "metadata": {},
   "outputs": [],
   "source": [
    "# Load the imbalanced data\n",
    "imbalanced_data = pd.read_csv(\"Unbalanced_hotel_data.csv\")\n",
    "X = imbalanced_data.drop(columns=['is_canceled'])\n",
    "y = imbalanced_data['is_canceled']\n",
    "\n",
    "# Handle class imbalance\n",
    "n_samples = len(y)\n",
    "n_classes = len(np.unique(y))\n",
    "class_weights = {cls: n_samples/(n_classes * sum(y == cls)) for cls in np.unique(y)}\n",
    "\n",
    "# Split the data into training and testing sets 70:30 split\n",
    "X_train, X_test, y_train, y_test = train_test_split(X, y, test_size=0.3, random_state=42, stratify=y)\n",
    "\n"
   ]
  },
  {
   "cell_type": "code",
   "execution_count": 3,
   "id": "d5ac90e1-1ba8-46f3-8731-391e8fa27f9e",
   "metadata": {},
   "outputs": [
    {
     "name": "stdout",
     "output_type": "stream",
     "text": [
      "Starting Grid Search...\n",
      "\n",
      "Best Parameters:\n",
      "{'criterion': 'entropy', 'max_depth': 10, 'min_samples_split': 2}\n",
      "Best Cross-Validation Score: 0.7600\n"
     ]
    }
   ],
   "source": [
    "param_grid = {\n",
    "    'max_depth': [3, 5, 7, 10],\n",
    "    'min_samples_split': [2, 5, 10],\n",
    "    'criterion': ['gini', 'entropy']\n",
    "}\n",
    "\n",
    "base_dt = DecisionTreeClassifier(random_state=42, class_weight=class_weights)\n",
    "\n",
    "print(\"Starting Grid Search...\")\n",
    "grid_search = GridSearchCV(\n",
    "    estimator=base_dt,\n",
    "    param_grid=param_grid,\n",
    "    cv=5,\n",
    "    scoring='accuracy',\n",
    "    n_jobs=-1\n",
    ")\n",
    "\n",
    "grid_search.fit(X_train, y_train)\n",
    "print(\"\\nBest Parameters:\")\n",
    "print(grid_search.best_params_)\n",
    "print(f\"Best Cross-Validation Score: {grid_search.best_score_:.4f}\")"
   ]
  },
  {
   "cell_type": "code",
   "execution_count": 4,
   "id": "922a6193-91bf-482e-85b0-47acbd623930",
   "metadata": {},
   "outputs": [],
   "source": [
    "\n",
    "best_dt = grid_search.best_estimator_\n",
    "\n",
    "y_pred = best_dt.predict(X_test)\n",
    "y_prob = best_dt.predict_proba(X_test)[:, 1]"
   ]
  },
  {
   "cell_type": "code",
   "execution_count": 5,
   "id": "bb8c6f59-9d42-4dc5-b388-9f1b3b937f3f",
   "metadata": {},
   "outputs": [
    {
     "name": "stdout",
     "output_type": "stream",
     "text": [
      "\n",
      "Best Model Performance on Test Set:\n",
      "--------------------------------------------------\n",
      "Accuracy: 0.7671\n",
      "MCC: 0.4379\n",
      "Precision: 0.7752\n",
      "AUC: 0.8160\n"
     ]
    }
   ],
   "source": [
    "\n",
    "# Calculated Gini impurity\n",
    "n_nodes = best_dt.tree_.node_count\n",
    "gini_scores = best_dt.tree_.impurity\n",
    "weighted_gini = np.average(gini_scores, weights=best_dt.tree_.weighted_n_node_samples[:n_nodes])\n",
    "\n",
    "fpr, tpr, _ = roc_curve(y_test, y_prob)\n",
    "accuracy = accuracy_score(y_test, y_pred)\n",
    "mcc = matthews_corrcoef(y_test, y_pred)\n",
    "precision = precision_score(y_test, y_pred, average='weighted')\n",
    "roc_auc = auc(fpr, tpr)\n",
    "\n",
    "print(\"\\nBest Model Performance on Test Set:\")\n",
    "print(\"-\" * 50)\n",
    "print(f\"Accuracy: {accuracy:.4f}\")\n",
    "print(f\"MCC: {mcc:.4f}\")\n",
    "print(f\"Precision: {precision:.4f}\")\n",
    "print(f\"AUC: {roc_auc:.4f}\")"
   ]
  },
  {
   "cell_type": "code",
   "execution_count": 6,
   "id": "b4cef572-8a07-49c6-8477-287ecec7b0a1",
   "metadata": {},
   "outputs": [
    {
     "name": "stdout",
     "output_type": "stream",
     "text": [
      "\n",
      "Classification Report:\n",
      "              precision    recall  f1-score   support\n",
      "\n",
      "           0     0.8529    0.8191    0.8357     18650\n",
      "           1     0.5724    0.6317    0.6006      7151\n",
      "\n",
      "    accuracy                         0.7671     25801\n",
      "   macro avg     0.7127    0.7254    0.7181     25801\n",
      "weighted avg     0.7752    0.7671    0.7705     25801\n",
      "\n"
     ]
    },
    {
     "data": {
      "image/png": "[encoded data removed]",
      "text/plain": [
       "<Figure size 576x432 with 1 Axes>"
      ]
     },
     "metadata": {
      "needs_background": "light"
     },
     "output_type": "display_data"
    }
   ],
   "source": [
    "\n",
    "print(\"\\nClassification Report:\")\n",
    "print(classification_report(y_test, y_pred, digits=4))\n",
    "\n",
    "# Plot ROC curve\n",
    "plt.figure(figsize=(8, 6))\n",
    "plt.plot([0, 1], [0, 1], 'r--', label='Random')\n",
    "plt.plot(fpr, tpr, 'b-', label=f'ROC (AUC = {roc_auc:.4f})')\n",
    "plt.xlabel('False Positive Rate')\n",
    "plt.ylabel('True Positive Rate')\n",
    "plt.title('ROC Curve (Tuned Model)')\n",
    "plt.legend()\n",
    "plt.grid(True)\n",
    "plt.show()\n"
   ]
  },
  {
   "cell_type": "markdown",
   "id": "b9813050",
   "metadata": {},
   "source": [
    "#### With Imbalanced dataset even after applying class_weights this is the best precision possible for is_canceled target variable. "
   ]
  },
  {
   "cell_type": "markdown",
   "id": "3f4bef15",
   "metadata": {},
   "source": [
    "## Decision Tree on Balanced Dataset"
   ]
  },
  {
   "cell_type": "code",
   "execution_count": 7,
   "id": "5f00a12a-caa2-4481-bc11-59b9813f8657",
   "metadata": {},
   "outputs": [],
   "source": [
    "# Importing the libraries\n",
    "import pandas as pd\n",
    "import numpy as np\n",
    "from sklearn.model_selection import train_test_split, GridSearchCV\n",
    "from sklearn.tree import DecisionTreeClassifier\n",
    "from sklearn.metrics import accuracy_score, precision_score, roc_curve, auc, classification_report, confusion_matrix\n",
    "import matplotlib.pyplot as plt\n",
    "import seaborn as sns"
   ]
  },
  {
   "cell_type": "code",
   "execution_count": 8,
   "id": "09b4997f-a354-4ddb-808f-0623e3663a49",
   "metadata": {},
   "outputs": [],
   "source": [
    "balanced_data = pd.read_csv(\"Balanced_hotel_data.csv\")  \n",
    "X = balanced_data.drop(columns=['is_canceled'])\n",
    "y = balanced_data['is_canceled']\n",
    "\n",
    "# Split the data into training and testing sets 70:30\n",
    "X_train, X_test, y_train, y_test = train_test_split(X, y, test_size=0.3, random_state=42, stratify=y)\n"
   ]
  },
  {
   "cell_type": "code",
   "execution_count": 9,
   "id": "b197a479-054f-460d-ad30-21a8d2f9361f",
   "metadata": {},
   "outputs": [
    {
     "name": "stdout",
     "output_type": "stream",
     "text": [
      "Starting Grid Search...\n",
      "\n",
      "Best Parameters:\n",
      "{'criterion': 'gini', 'max_depth': 10, 'min_samples_split': 5}\n",
      "Best Cross-Validation Score: 0.7259\n"
     ]
    }
   ],
   "source": [
    "param_grid = {\n",
    "    'max_depth': [3, 5, 7, 10],\n",
    "    'min_samples_split': [2, 5, 10],\n",
    "    'criterion': ['gini', 'entropy']\n",
    "}\n",
    "\n",
    "base_dt = DecisionTreeClassifier(random_state=42) \n",
    "print(\"Starting Grid Search...\")\n",
    "grid_search = GridSearchCV(\n",
    "    estimator=base_dt,\n",
    "    param_grid=param_grid,\n",
    "    cv=5,\n",
    "    scoring='accuracy',\n",
    "    n_jobs=-1\n",
    ")\n",
    "grid_search.fit(X_train, y_train)\n",
    "\n",
    "print(\"\\nBest Parameters:\")\n",
    "print(grid_search.best_params_)\n",
    "print(f\"Best Cross-Validation Score: {grid_search.best_score_:.4f}\")\n",
    "\n"
   ]
  },
  {
   "cell_type": "code",
   "execution_count": 10,
   "id": "ea604fee-6d07-45e4-8198-2e3a940108c4",
   "metadata": {},
   "outputs": [],
   "source": [
    "\n",
    "best_dt = grid_search.best_estimator_\n",
    "\n",
    "y_pred = best_dt.predict(X_test)\n",
    "y_prob = best_dt.predict_proba(X_test)[:, 1]\n",
    "\n",
    "# Calculate Gini impurity\n",
    "n_nodes = best_dt.tree_.node_count\n",
    "gini_scores = best_dt.tree_.impurity\n",
    "weighted_gini = np.average(gini_scores, weights=best_dt.tree_.weighted_n_node_samples[:n_nodes])\n"
   ]
  },
  {
   "cell_type": "code",
   "execution_count": 11,
   "id": "9d72665c-9eb2-49c3-879a-c3c1dcfe4ff5",
   "metadata": {},
   "outputs": [
    {
     "name": "stdout",
     "output_type": "stream",
     "text": [
      "\n",
      "Best Model Performance on Test Set:\n",
      "--------------------------------------------------\n",
      "Accuracy: 0.7290\n",
      "Precision: 0.7308\n",
      "AUC: 0.8123\n",
      "\n",
      "Classification Report:\n",
      "              precision    recall  f1-score   support\n",
      "\n",
      "           0     0.7108    0.7723    0.7403      7151\n",
      "           1     0.7507    0.6857    0.7168      7150\n",
      "\n",
      "    accuracy                         0.7290     14301\n",
      "   macro avg     0.7308    0.7290    0.7285     14301\n",
      "weighted avg     0.7308    0.7290    0.7285     14301\n",
      "\n"
     ]
    }
   ],
   "source": [
    "fpr, tpr, thresholds = roc_curve(y_test, y_prob)  \n",
    "accuracy = accuracy_score(y_test, y_pred)\n",
    "precision = precision_score(y_test, y_pred, average='weighted')\n",
    "roc_auc = auc(fpr, tpr)\n",
    "\n",
    "cm = confusion_matrix(y_test, y_pred)\n",
    "\n",
    "print(\"\\nBest Model Performance on Test Set:\")\n",
    "print(\"-\" * 50)\n",
    "print(f\"Accuracy: {accuracy:.4f}\")\n",
    "print(f\"Precision: {precision:.4f}\")\n",
    "print(f\"AUC: {roc_auc:.4f}\")\n",
    "print(\"\\nClassification Report:\")\n",
    "print(classification_report(y_test, y_pred, digits=4))"
   ]
  },
  {
   "cell_type": "code",
   "execution_count": 12,
   "id": "ec96805d-2cde-4906-9dee-fccedea5da6e",
   "metadata": {},
   "outputs": [
    {
     "data": {
      "image/png": "[encoded data removed]",
      "text/plain": [
       "<Figure size 576x432 with 2 Axes>"
      ]
     },
     "metadata": {
      "needs_background": "light"
     },
     "output_type": "display_data"
    }
   ],
   "source": [
    "plt.figure(figsize=(8, 6))\n",
    "sns.heatmap(cm, annot=True, fmt='d', cmap='Blues')\n",
    "plt.title('Confusion Matrix')\n",
    "plt.ylabel('True Label')\n",
    "plt.xlabel('Predicted Label')\n",
    "plt.show()\n"
   ]
  },
  {
   "cell_type": "code",
   "execution_count": 13,
   "id": "97c9ee9d-b627-4691-8e0f-f9a3307168f4",
   "metadata": {},
   "outputs": [
    {
     "data": {
      "image/png": "[encoded data removed]",
      "text/plain": [
       "<Figure size 576x432 with 1 Axes>"
      ]
     },
     "metadata": {
      "needs_background": "light"
     },
     "output_type": "display_data"
    }
   ],
   "source": [
    "plt.figure(figsize=(8, 6))\n",
    "plt.plot([0, 1], [0, 1], 'r--', label='Random')\n",
    "plt.plot(fpr, tpr, 'b-', label=f'ROC (AUC = {roc_auc:.4f})')\n",
    "plt.xlabel('False Positive Rate')\n",
    "plt.ylabel('True Positive Rate')\n",
    "plt.title('ROC Curve (Tuned Model)')\n",
    "plt.legend()\n",
    "plt.grid(True)\n",
    "plt.show()"
   ]
  },
  {
   "cell_type": "code",
   "execution_count": 14,
   "id": "f0bd22e9",
   "metadata": {},
   "outputs": [
    {
     "name": "stdout",
     "output_type": "stream",
     "text": [
      "Defaulting to user installation because normal site-packages is not writeable\n",
      "Requirement already satisfied: xgboost in /user/HS400/ar02407/.local/lib/python3.10/site-packages (2.1.3)\n",
      "Requirement already satisfied: numpy in /user/HS400/ar02407/.local/lib/python3.10/site-packages (from xgboost) (1.25.2)\n",
      "Requirement already satisfied: nvidia-nccl-cu12 in /user/HS400/ar02407/.local/lib/python3.10/site-packages (from xgboost) (2.23.4)\n",
      "Requirement already satisfied: scipy in /user/HS400/ar02407/.local/lib/python3.10/site-packages (from xgboost) (1.14.1)\n"
     ]
    }
   ],
   "source": [
    "!pip install xgboost"
   ]
  },
  {
   "cell_type": "markdown",
   "id": "e9a950f0",
   "metadata": {},
   "source": [
    "## XGBoost on  imbalanced dataset (Shared Algorithm)"
   ]
  },
  {
   "cell_type": "code",
   "execution_count": 15,
   "id": "be1ff6df-bbb9-467d-ae43-3d181e77307d",
   "metadata": {},
   "outputs": [],
   "source": [
    "# Importing the libraries\n",
    "import pandas as pd\n",
    "import numpy as np\n",
    "from sklearn.model_selection import train_test_split, GridSearchCV\n",
    "import xgboost as xgb\n",
    "from sklearn.metrics import matthews_corrcoef, accuracy_score, precision_score, roc_curve, auc, classification_report\n",
    "import matplotlib.pyplot as plt\n",
    "import warnings\n",
    "warnings.filterwarnings('ignore')"
   ]
  },
  {
   "cell_type": "code",
   "execution_count": 16,
   "id": "845bc716-086e-4090-ad2b-77bce6142bf6",
   "metadata": {},
   "outputs": [],
   "source": [
    "imbalanced_data = pd.read_csv(\"Unbalanced_hotel_data.csv\")\n",
    "X = imbalanced_data.drop(columns=['is_canceled'])\n",
    "y = imbalanced_data['is_canceled']"
   ]
  },
  {
   "cell_type": "code",
   "execution_count": 17,
   "id": "13a0786d-328e-49d5-b71a-f0e8fdb951f4",
   "metadata": {},
   "outputs": [],
   "source": [
    "n_samples = len(y)\n",
    "n_classes = len(np.unique(y))\n",
    "scale_pos_weight = sum(y == 0) / sum(y == 1)  "
   ]
  },
  {
   "cell_type": "code",
   "execution_count": 18,
   "id": "55835a9e-1c6e-4484-8eca-3ad3c457f5a4",
   "metadata": {},
   "outputs": [],
   "source": [
    "# Split the data into training and testing sets 70:30%\n",
    "X_train, X_test, y_train, y_test = train_test_split(X, y, test_size=0.3, random_state=42, stratify=y)"
   ]
  },
  {
   "cell_type": "code",
   "execution_count": 19,
   "id": "f9ab4205-2bf9-4119-8c90-146a0ba49640",
   "metadata": {},
   "outputs": [
    {
     "name": "stdout",
     "output_type": "stream",
     "text": [
      "Starting Grid Search...\n",
      "\n",
      "Best Parameters:\n",
      "{'learning_rate': 0.1, 'max_depth': 7, 'min_child_weight': 1, 'n_estimators': 200, 'subsample': 0.8}\n",
      "Best Cross-Validation Score: 0.7773\n"
     ]
    }
   ],
   "source": [
    "param_grid = {\n",
    "    'max_depth': [3, 7],\n",
    "    'learning_rate': [0.01, 0.1],\n",
    "    'n_estimators': [100, 200],\n",
    "    'min_child_weight': [1, 3],\n",
    "    'subsample': [0.8, 1.0]\n",
    "}\n",
    "\n",
    "base_xgb = xgb.XGBClassifier(\n",
    "    objective='binary:logistic',\n",
    "    scale_pos_weight=scale_pos_weight,\n",
    "    random_state=42,\n",
    "    eval_metric='logloss'\n",
    ")\n",
    "\n",
    "print(\"Starting Grid Search...\")\n",
    "grid_search = GridSearchCV(\n",
    "    estimator=base_xgb,\n",
    "    param_grid=param_grid,\n",
    "    cv=5,\n",
    "    scoring='accuracy',\n",
    "    n_jobs=-1\n",
    ")\n",
    "grid_search.fit(X_train, y_train)\n",
    "\n",
    "print(\"\\nBest Parameters:\")\n",
    "print(grid_search.best_params_)\n",
    "print(f\"Best Cross-Validation Score: {grid_search.best_score_:.4f}\")"
   ]
  },
  {
   "cell_type": "code",
   "execution_count": 20,
   "id": "8cc79168-62aa-4bb4-8b54-04680314b3cc",
   "metadata": {},
   "outputs": [],
   "source": [
    "\n",
    "best_xgb = grid_search.best_estimator_\n",
    "\n",
    "y_pred = best_xgb.predict(X_test)\n",
    "y_prob = best_xgb.predict_proba(X_test)[:, 1]"
   ]
  },
  {
   "cell_type": "code",
   "execution_count": 21,
   "id": "67b626ba",
   "metadata": {},
   "outputs": [
    {
     "name": "stdout",
     "output_type": "stream",
     "text": [
      "\n",
      "Best Model Performance on Test Set:\n",
      "--------------------------------------------------\n",
      "Accuracy: 0.7753\n",
      "MCC: 0.4961\n",
      "Precision: 0.8018\n",
      "AUC: 0.8536\n",
      "\n",
      "Classification Report:\n",
      "              precision    recall  f1-score   support\n",
      "\n",
      "           0     0.8897    0.7866    0.8350     18650\n",
      "           1     0.5727    0.7456    0.6478      7151\n",
      "\n",
      "    accuracy                         0.7753     25801\n",
      "   macro avg     0.7312    0.7661    0.7414     25801\n",
      "weighted avg     0.8018    0.7753    0.7831     25801\n",
      "\n"
     ]
    }
   ],
   "source": [
    "fpr, tpr, _ = roc_curve(y_test, y_prob)\n",
    "accuracy = accuracy_score(y_test, y_pred)\n",
    "mcc = matthews_corrcoef(y_test, y_pred)\n",
    "precision = precision_score(y_test, y_pred, average='weighted')\n",
    "roc_auc = auc(fpr, tpr)\n",
    "\n",
    "print(\"\\nBest Model Performance on Test Set:\")\n",
    "print(\"-\" * 50)\n",
    "print(f\"Accuracy: {accuracy:.4f}\")\n",
    "print(f\"MCC: {mcc:.4f}\")\n",
    "print(f\"Precision: {precision:.4f}\")\n",
    "print(f\"AUC: {roc_auc:.4f}\")\n",
    "print(\"\\nClassification Report:\")\n",
    "print(classification_report(y_test, y_pred, digits=4))\n",
    "\n",
    "\n"
   ]
  },
  {
   "cell_type": "code",
   "execution_count": 22,
   "id": "67cb1b7e-267d-4278-a40c-7cf24585057a",
   "metadata": {},
   "outputs": [
    {
     "data": {
      "image/png": "[encoded data removed]",
      "text/plain": [
       "<Figure size 576x432 with 1 Axes>"
      ]
     },
     "metadata": {
      "needs_background": "light"
     },
     "output_type": "display_data"
    }
   ],
   "source": [
    "plt.figure(figsize=(8, 6))\n",
    "plt.plot([0, 1], [0, 1], 'r--', label='Random')\n",
    "plt.plot(fpr, tpr, 'b-', label=f'ROC (AUC = {roc_auc:.4f})')\n",
    "plt.xlabel('False Positive Rate')\n",
    "plt.ylabel('True Positive Rate')\n",
    "plt.title('ROC Curve (Tuned XGBoost Model)')\n",
    "plt.legend()\n",
    "plt.grid(True)\n",
    "plt.show()\n"
   ]
  },
  {
   "cell_type": "markdown",
   "id": "cbf74de9",
   "metadata": {},
   "source": [
    "## XGBoost on balanced dataset (Shared Algorithm)"
   ]
  },
  {
   "cell_type": "code",
   "execution_count": 23,
   "id": "f88bdcb5-ac69-4c8d-bec9-c3c2de75446e",
   "metadata": {},
   "outputs": [],
   "source": [
    "# Importing the libraries\n",
    "import pandas as pd\n",
    "import numpy as np\n",
    "from sklearn.model_selection import train_test_split, GridSearchCV\n",
    "from xgboost import XGBClassifier\n",
    "from sklearn.metrics import accuracy_score, precision_score, roc_curve, auc, classification_report, confusion_matrix\n",
    "import matplotlib.pyplot as plt\n",
    "import seaborn as sns\n"
   ]
  },
  {
   "cell_type": "code",
   "execution_count": 24,
   "id": "d16cd6b4-fdd2-4f00-8d4c-ded73f5d4904",
   "metadata": {},
   "outputs": [],
   "source": [
    "balanced_data = pd.read_csv(\"Balanced_hotel_data.csv\")\n",
    "X = balanced_data.drop(columns=['is_canceled'])\n",
    "y = balanced_data['is_canceled']"
   ]
  },
  {
   "cell_type": "code",
   "execution_count": 25,
   "id": "d0794eeb-2c75-49c8-8064-7b5ff13611b2",
   "metadata": {},
   "outputs": [],
   "source": [
    "# Split the data into training and testing sets 70:30\n",
    "X_train, X_test, y_train, y_test = train_test_split(\n",
    "    X, y, \n",
    "    test_size=0.3, \n",
    "    random_state=42, \n",
    "    stratify=y\n",
    ")"
   ]
  },
  {
   "cell_type": "code",
   "execution_count": 26,
   "id": "87c76fef-bbc3-49d2-a783-937f5815eff9",
   "metadata": {},
   "outputs": [
    {
     "name": "stdout",
     "output_type": "stream",
     "text": [
      "Starting Grid Search...\n",
      "Fitting 5 folds for each of 32 candidates, totalling 160 fits\n",
      "\n",
      "Best Parameters:\n",
      "{'learning_rate': 0.1, 'max_depth': 7, 'min_child_weight': 1, 'n_estimators': 200, 'subsample': 0.8}\n",
      "Best Cross-Validation Score: 0.7627\n"
     ]
    }
   ],
   "source": [
    "param_grid = {\n",
    "    'max_depth': [3, 7],\n",
    "    'learning_rate': [0.01, 0.1],\n",
    "    'n_estimators': [100, 200],\n",
    "    'min_child_weight': [1, 3],\n",
    "    'subsample': [0.8, 1.0]\n",
    "}\n",
    "\n",
    "base_xgb = XGBClassifier(\n",
    "    objective='binary:logistic',\n",
    "    random_state=42\n",
    ")\n",
    "\n",
    "print(\"Starting Grid Search...\")\n",
    "grid_search = GridSearchCV(\n",
    "    estimator=base_xgb,\n",
    "    param_grid=param_grid,\n",
    "    cv=5,\n",
    "    scoring='accuracy',\n",
    "    n_jobs=-1,\n",
    "    verbose=1\n",
    ")\n",
    "grid_search.fit(X_train, y_train)\n",
    "\n",
    "print(\"\\nBest Parameters:\")\n",
    "print(grid_search.best_params_)\n",
    "print(f\"Best Cross-Validation Score: {grid_search.best_score_:.4f}\")"
   ]
  },
  {
   "cell_type": "code",
   "execution_count": 27,
   "id": "b640c849-e421-4d60-b2f3-6b011cca3558",
   "metadata": {},
   "outputs": [],
   "source": [
    "best_xgb = grid_search.best_estimator_\n",
    "\n",
    "y_pred = best_xgb.predict(X_test)\n",
    "y_prob = best_xgb.predict_proba(X_test)[:, 1]"
   ]
  },
  {
   "cell_type": "code",
   "execution_count": 28,
   "id": "bb9533de-3cb3-4a50-8640-5f9bc10cb2d9",
   "metadata": {},
   "outputs": [
    {
     "name": "stdout",
     "output_type": "stream",
     "text": [
      "\n",
      "Best Model Performance on Test Set:\n",
      "--------------------------------------------------\n",
      "Accuracy: 0.7666\n",
      "Precision: 0.7666\n",
      "AUC: 0.8506\n",
      "\n",
      "Classification Report:\n",
      "              precision    recall  f1-score   support\n",
      "\n",
      "           0     0.7671    0.7658    0.7664      7151\n",
      "           1     0.7661    0.7674    0.7668      7150\n",
      "\n",
      "    accuracy                         0.7666     14301\n",
      "   macro avg     0.7666    0.7666    0.7666     14301\n",
      "weighted avg     0.7666    0.7666    0.7666     14301\n",
      "\n"
     ]
    }
   ],
   "source": [
    "fpr, tpr, thresholds = roc_curve(y_test, y_prob)\n",
    "accuracy = accuracy_score(y_test, y_pred)\n",
    "precision = precision_score(y_test, y_pred, average='weighted')\n",
    "roc_auc = auc(fpr, tpr)\n",
    "\n",
    "cm = confusion_matrix(y_test, y_pred)\n",
    "\n",
    "print(\"\\nBest Model Performance on Test Set:\")\n",
    "print(\"-\" * 50)\n",
    "print(f\"Accuracy: {accuracy:.4f}\")\n",
    "print(f\"Precision: {precision:.4f}\")\n",
    "print(f\"AUC: {roc_auc:.4f}\")\n",
    "print(\"\\nClassification Report:\")\n",
    "print(classification_report(y_test, y_pred, digits=4))"
   ]
  },
  {
   "cell_type": "code",
   "execution_count": 29,
   "id": "f656979e-ec97-4325-ac84-19d6429993e3",
   "metadata": {},
   "outputs": [
    {
     "data": {
      "image/png": "[encoded data removed]",
      "text/plain": [
       "<Figure size 576x432 with 2 Axes>"
      ]
     },
     "metadata": {
      "needs_background": "light"
     },
     "output_type": "display_data"
    }
   ],
   "source": [
    "\n",
    "\n",
    "plt.figure(figsize=(8, 6))\n",
    "sns.heatmap(cm, annot=True, fmt='d', cmap='Blues')\n",
    "plt.title('Confusion Matrix')\n",
    "plt.ylabel('True Label')\n",
    "plt.xlabel('Predicted Label')\n",
    "plt.show()\n"
   ]
  },
  {
   "cell_type": "code",
   "execution_count": 30,
   "id": "e4ac37f3-dfb0-4513-b231-22b8a1ca76c5",
   "metadata": {},
   "outputs": [
    {
     "data": {
      "image/png": "[encoded data removed]",
      "text/plain": [
       "<Figure size 576x432 with 1 Axes>"
      ]
     },
     "metadata": {
      "needs_background": "light"
     },
     "output_type": "display_data"
    }
   ],
   "source": [
    "\n",
    "plt.figure(figsize=(8, 6))\n",
    "plt.plot([0, 1], [0, 1], 'r--', label='Random')\n",
    "plt.plot(fpr, tpr, 'b-', label=f'ROC (AUC = {roc_auc:.4f})')\n",
    "plt.xlabel('False Positive Rate')\n",
    "plt.ylabel('True Positive Rate')\n",
    "plt.title('ROC Curve (Tuned Model)')\n",
    "plt.legend()\n",
    "plt.grid(True)\n",
    "plt.show()\n"
   ]
  },
  {
   "cell_type": "code",
   "execution_count": null,
   "id": "04aa8942-a3e7-4099-a0e9-04c84593342b",
   "metadata": {},
   "outputs": [],
   "source": []
  },
  {
   "cell_type": "code",
   "execution_count": null,
   "id": "edf8ff56-e0f8-4fb8-803d-02b6114f08a1",
   "metadata": {},
   "outputs": [],
   "source": []
  }
 ],
 "metadata": {
  "kernelspec": {
   "display_name": "Python 3 (ipykernel)",
   "language": "python",
   "name": "python3"
  },
  "language_info": {
   "codemirror_mode": {
    "name": "ipython",
    "version": 3
   },
   "file_extension": ".py",
   "mimetype": "text/x-python",
   "name": "python",
   "nbconvert_exporter": "python",
   "pygments_lexer": "ipython3",
   "version": "3.10.12"
  }
 },
 "nbformat": 4,
 "nbformat_minor": 5
}
